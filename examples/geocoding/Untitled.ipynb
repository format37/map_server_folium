{
 "cells": [
  {
   "cell_type": "code",
   "execution_count": null,
   "metadata": {},
   "outputs": [],
   "source": [
    "from functools import partial\n",
    "from geopy.geocoders import Nominatim"
   ]
  },
  {
   "cell_type": "code",
   "execution_count": null,
   "metadata": {},
   "outputs": [],
   "source": [
    "geo_locator = Nominatim(user_agent=\"test\")\n",
    "geocode = partial(geo_locator.geocode, language=\"ru\")\n",
    "print(geocode(\"Москва Кировоградская улица 19 к2\"))"
   ]
  },
  {
   "cell_type": "code",
   "execution_count": 1,
   "metadata": {},
   "outputs": [],
   "source": [
    "import pandas as pd\n",
    "from geopy.geocoders import Nominatim\n",
    "from geopy.extra.rate_limiter import RateLimiter"
   ]
  },
  {
   "cell_type": "code",
   "execution_count": 2,
   "metadata": {
    "scrolled": true
   },
   "outputs": [
    {
     "name": "stdout",
     "output_type": "stream",
     "text": [
      "                                name  \\\n",
      "0  Москва Кировоградская улица 19 к2   \n",
      "1        Санкт-Петербург Руставели 6   \n",
      "2        Нижний Новгород Бекетова 40   \n",
      "\n",
      "                                            location  \\\n",
      "0  (19 к2, Кировоградская улица, район Чертаново ...   \n",
      "1  (6, улица Руставели, станция Пискарёвка, округ...   \n",
      "2  (40, улица Бекетова, Лапшиха, Советский район,...   \n",
      "\n",
      "                                          point  \n",
      "0          (55.6047527, 37.60179038128362, 0.0)  \n",
      "1         (59.9990373, 30.435436298883566, 0.0)  \n",
      "2  (56.292472700000005, 44.00742048915463, 0.0)  \n"
     ]
    }
   ],
   "source": [
    "df = pd.DataFrame({'name': [\n",
    "    'Москва Кировоградская улица 19 к2', \n",
    "    'Санкт-Петербург Руставели 6', \n",
    "    'Нижний Новгород Бекетова 40'\n",
    "]})\n",
    "geolocator = Nominatim(user_agent=\"test\")\n",
    "geocode = RateLimiter(geolocator.geocode, min_delay_seconds=1)\n",
    "df['location'] = df['name'].apply(geocode)\n",
    "df['point'] = df['location'].apply(lambda loc: tuple(loc.point) if loc else None)\n",
    "print(df)"
   ]
  }
 ],
 "metadata": {
  "kernelspec": {
   "display_name": "Python 3",
   "language": "python",
   "name": "python3"
  },
  "language_info": {
   "codemirror_mode": {
    "name": "ipython",
    "version": 3
   },
   "file_extension": ".py",
   "mimetype": "text/x-python",
   "name": "python",
   "nbconvert_exporter": "python",
   "pygments_lexer": "ipython3",
   "version": "3.7.6"
  }
 },
 "nbformat": 4,
 "nbformat_minor": 4
}
